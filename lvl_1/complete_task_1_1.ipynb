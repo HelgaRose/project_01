{
  "nbformat": 4,
  "nbformat_minor": 0,
  "metadata": {
    "colab": {
      "provenance": []
    },
    "kernelspec": {
      "name": "python3",
      "display_name": "Python 3"
    },
    "language_info": {
      "name": "python"
    }
  },
  "cells": [
    {
      "cell_type": "markdown",
      "source": [
        "# Задача 1.1.\n",
        "\n",
        " Есть строка с перечислением песен\n",
        "\n",
        "my_favorite_songs = 'Waste a Moment, Staying\\' Alive, A Sorta Fairytale, Start Me Up, New Salvation'\n",
        "\n",
        " Выведите на консоль с помощью индексации строки, последовательно: первый трек, последний, второй, второй с конца\n",
        " Нельзя переопределять my_favorite_songs и запятая не должна выводиться."
      ],
      "metadata": {
        "id": "nlwVcarHblzA"
      }
    },
    {
      "cell_type": "code",
      "execution_count": 60,
      "metadata": {
        "colab": {
          "base_uri": "https://localhost:8080/",
          "height": 36
        },
        "id": "Q7F1KG1Ybaq5",
        "outputId": "e0c99623-5254-477a-b10a-51d723cceace"
      },
      "outputs": [
        {
          "output_type": "execute_result",
          "data": {
            "text/plain": [
              "\"Waste a Moment New Salvation Staying' Alive Start Me Up\""
            ],
            "application/vnd.google.colaboratory.intrinsic+json": {
              "type": "string"
            }
          },
          "metadata": {},
          "execution_count": 60
        }
      ],
      "source": [
        "my_favorite_songs = 'Waste a Moment, Staying\\' Alive, A Sorta Fairytale, Start Me Up, New Salvation'\n",
        "\n",
        "\n",
        "my_favorite_songs[:14] + my_favorite_songs[-14:] + my_favorite_songs[15:30] + my_favorite_songs[-27:-15]\n"
      ]
    },
    {
      "cell_type": "code",
      "source": [
        "print(len(my_favorite_songs))"
      ],
      "metadata": {
        "colab": {
          "base_uri": "https://localhost:8080/"
        },
        "id": "A0gBfIWOitoO",
        "outputId": "1faf78b6-0920-451b-c502-c765ad878713"
      },
      "execution_count": 34,
      "outputs": [
        {
          "output_type": "stream",
          "name": "stdout",
          "text": [
            "77\n"
          ]
        }
      ]
    },
    {
      "cell_type": "code",
      "source": [
        "len('Waste a Moment')"
      ],
      "metadata": {
        "colab": {
          "base_uri": "https://localhost:8080/"
        },
        "id": "h-owR3CJlPAE",
        "outputId": "b2e8986f-87af-4ee8-9292-4e8e5fd8fa71"
      },
      "execution_count": 47,
      "outputs": [
        {
          "output_type": "execute_result",
          "data": {
            "text/plain": [
              "14"
            ]
          },
          "metadata": {},
          "execution_count": 47
        }
      ]
    },
    {
      "cell_type": "code",
      "source": [
        "len('New Salvation')"
      ],
      "metadata": {
        "colab": {
          "base_uri": "https://localhost:8080/"
        },
        "id": "nQqT8Uy5kr7Z",
        "outputId": "084048de-0ee7-448f-c85f-583e18f2220b"
      },
      "execution_count": 44,
      "outputs": [
        {
          "output_type": "execute_result",
          "data": {
            "text/plain": [
              "13"
            ]
          },
          "metadata": {},
          "execution_count": 44
        }
      ]
    },
    {
      "cell_type": "code",
      "source": [
        "len('Waste a Moment, Staying\\' Alive')"
      ],
      "metadata": {
        "colab": {
          "base_uri": "https://localhost:8080/"
        },
        "id": "p5CYAClZj0hx",
        "outputId": "d384fa97-02df-4b20-feb5-cc04c43e8ae5"
      },
      "execution_count": 40,
      "outputs": [
        {
          "output_type": "execute_result",
          "data": {
            "text/plain": [
              "30"
            ]
          },
          "metadata": {},
          "execution_count": 40
        }
      ]
    },
    {
      "cell_type": "code",
      "source": [
        "len('Start Me Up, New Salvation')"
      ],
      "metadata": {
        "colab": {
          "base_uri": "https://localhost:8080/"
        },
        "id": "1gZ9ckbbkOiB",
        "outputId": "a2ebbf78-2181-451c-88d7-c904ce301af5"
      },
      "execution_count": 42,
      "outputs": [
        {
          "output_type": "execute_result",
          "data": {
            "text/plain": [
              "26"
            ]
          },
          "metadata": {},
          "execution_count": 42
        }
      ]
    },
    {
      "cell_type": "code",
      "source": [
        "print(my_favorite_songs[:14])\n",
        "print(my_favorite_songs[-13:])\n",
        "print(my_favorite_songs[16:30])\n",
        "print(my_favorite_songs[-26:-15])"
      ],
      "metadata": {
        "colab": {
          "base_uri": "https://localhost:8080/"
        },
        "id": "kpOmA8F_mFdU",
        "outputId": "768c3e45-0f75-484d-e692-90f8d8c09ea1"
      },
      "execution_count": 53,
      "outputs": [
        {
          "output_type": "stream",
          "name": "stdout",
          "text": [
            "Waste a Moment\n",
            "New Salvation\n",
            "Staying' Alive\n",
            "Start Me Up\n"
          ]
        }
      ]
    }
  ]
}